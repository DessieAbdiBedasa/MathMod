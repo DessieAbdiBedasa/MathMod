{
 "cells": [
  {
   "cell_type": "code",
   "execution_count": 9,
   "id": "3334a759",
   "metadata": {},
   "outputs": [],
   "source": [
    "using DifferentialEquations\n",
    "using Plots"
   ]
  },
  {
   "cell_type": "code",
   "execution_count": 10,
   "id": "4d1ccd52",
   "metadata": {},
   "outputs": [
    {
     "data": {
      "text/plain": [
       "2.356194490192345"
      ]
     },
     "execution_count": 10,
     "metadata": {},
     "output_type": "execute_result"
    }
   ],
   "source": [
    "n = 3.9\n",
    "s = 16.1\n",
    "fi = 3/4*pi"
   ]
  },
  {
   "cell_type": "code",
   "execution_count": 11,
   "id": "213c3cf1",
   "metadata": {},
   "outputs": [
    {
     "data": {
      "text/plain": [
       "f2 (generic function with 1 method)"
      ]
     },
     "execution_count": 11,
     "metadata": {},
     "output_type": "execute_result"
    }
   ],
   "source": [
    "function f(r, p, t)\n",
    "    dr = r/sqrt(n^2-1)\n",
    "    return dr\n",
    "end\n",
    "\n",
    "function f2(t)\n",
    "    xt = tan(fi+pi)*t\n",
    "    return xt\n",
    "end"
   ]
  },
  {
   "cell_type": "code",
   "execution_count": 12,
   "id": "c7229094",
   "metadata": {},
   "outputs": [
    {
     "data": {
      "text/plain": [
       "\"C:\\\\Users\\\\Admin\\\\Downloads\\\\01jl.png\""
      ]
     },
     "execution_count": 12,
     "metadata": {},
     "output_type": "execute_result"
    }
   ],
   "source": [
    "r0 = s/(n+1)\n",
    "\n",
    "theta0 = collect(LinRange(0, 2*pi, 10000))\n",
    "prob = ODEProblem(f, r0, (0, 2*pi))\n",
    "sol = solve(prob, saveat=theta0)\n",
    "\n",
    "t = collect(LinRange(0.0000001, 11, 1000))\n",
    "r1 = []\n",
    "theta1 = []\n",
    "\n",
    "for i in t\n",
    "    push!(r1, sqrt(i^2 + f2(i)^2))\n",
    "    push!(theta1, atan(f2(i)/i))\n",
    "end\n",
    "\n",
    "plot(sol, proj = :polar, label = \"катер\")\n",
    "plot!(theta1, r1, proj = :polar, label = \"лодка\")\n",
    "savefig(\"01jl.png\")\n"
   ]
  },
  {
   "cell_type": "code",
   "execution_count": 13,
   "id": "3035a18e",
   "metadata": {},
   "outputs": [
    {
     "data": {
      "text/plain": [
       "\"C:\\\\Users\\\\Admin\\\\Downloads\\\\02jl.png\""
      ]
     },
     "execution_count": 13,
     "metadata": {},
     "output_type": "execute_result"
    }
   ],
   "source": [
    "r0 = s/(n-1)\n",
    "\n",
    "theta0 = collect(LinRange(0, 2*pi, 10000))\n",
    "prob = ODEProblem(f, r0, (0, 2*pi))\n",
    "sol = solve(prob, saveat=theta0)\n",
    "\n",
    "t = collect(LinRange(0.0000001, 18, 1000))\n",
    "r1 = []\n",
    "theta1 = []\n",
    "\n",
    "for i in t\n",
    "    push!(r1, sqrt(i^2 + f2(i)^2))\n",
    "    push!(theta1, atan(f2(i)/i))\n",
    "end\n",
    "\n",
    "plot(sol, proj = :polar, label = \"катер\")\n",
    "plot!(theta1, r1, proj = :polar, label = \"лодка\")\n",
    "savefig(\"02jl.png\")\n"
   ]
  },
  {
   "cell_type": "code",
   "execution_count": null,
   "id": "5ae95ec9",
   "metadata": {},
   "outputs": [],
   "source": []
  },
  {
   "cell_type": "code",
   "execution_count": null,
   "id": "8c2fd199",
   "metadata": {},
   "outputs": [],
   "source": []
  }
 ],
 "metadata": {
  "kernelspec": {
   "display_name": "Julia 1.8.3",
   "language": "julia",
   "name": "julia-1.8"
  },
  "language_info": {
   "file_extension": ".jl",
   "mimetype": "application/julia",
   "name": "julia",
   "version": "1.8.3"
  }
 },
 "nbformat": 4,
 "nbformat_minor": 5
}
